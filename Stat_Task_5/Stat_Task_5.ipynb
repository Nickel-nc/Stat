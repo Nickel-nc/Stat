{
 "cells": [
  {
   "cell_type": "markdown",
   "metadata": {},
   "source": [
    "## Теория вероятностей и математическая статистика\n",
    "****************"
   ]
  },
  {
   "cell_type": "code",
   "execution_count": 43,
   "metadata": {},
   "outputs": [],
   "source": [
    "import numpy as np\n",
    "from math import sqrt"
   ]
  },
  {
   "cell_type": "markdown",
   "metadata": {},
   "source": [
    "Задачи 1,2 -искать доверительный интервал; задачи 3,4 - решать через тестирование гипотезы\n",
    "\n",
    "##### 1. Известно, что генеральная совокупность распределена нормально со средним квадратическим отклонением, равным 16. Найти доверительный интервал для оценки математического ожидания a с надежностью 0.95, если выборочная средняя M = 80, а объем выборки n = 256."
   ]
  },
  {
   "cell_type": "markdown",
   "metadata": {},
   "source": [
    "$\\overline{X} \\pm k = \\overline{X} \\pm z_{a/2} \\cdot \\frac{\\sigma}{\\sqrt{n}} = 80 \\pm \\left(1.96 \\cdot \\frac{16}{\\sqrt{256}}\\right) = [81.96$ ; $78.04]$"
   ]
  },
  {
   "cell_type": "markdown",
   "metadata": {},
   "source": [
    "##### 2. В результате 10 независимых измерений некоторой величины X, выполненных с одинаковой точностью, получены опытные данные: 6.9, 6.1, 6.2, 6.8, 7.5, 6.3, 6.4, 6.9, 6.7, 6.1. Предполагая, что результаты измерений подчинены нормальному закону распределения вероятностей, оценить истинное значение величины X при помощи доверительного интервала, покрывающего это значение с доверительной вероятностью 0,95."
   ]
  },
  {
   "cell_type": "markdown",
   "metadata": {},
   "source": [
    "$\\overline{X} + t_{a/2} \\cdot \\frac{\\sigma}{\\sqrt{n}} = 6.59 \\pm \\left(2.262 \\cdot \\frac{0.2}{\\sqrt{10}}\\right) = [6.44$ ; $6.73]$"
   ]
  },
  {
   "cell_type": "code",
   "execution_count": 18,
   "metadata": {
    "scrolled": true
   },
   "outputs": [
    {
     "name": "stdout",
     "output_type": "stream",
     "text": [
      "x_: 6.590000000000001\n",
      "sigm: 0.2032222222222223\n"
     ]
    }
   ],
   "source": [
    "X = np.array([6.9, 6.1, 6.2, 6.8, 7.5, 6.3, 6.4, 6.9, 6.7, 6.1])\n",
    "x_ = np.mean(X)\n",
    "sigm_ = np.var(X, ddof=1)\n",
    "print(f'x_: {x_}')\n",
    "print(f'sigm: {sigm_}')"
   ]
  },
  {
   "cell_type": "code",
   "execution_count": 19,
   "metadata": {},
   "outputs": [
    {
     "name": "stdout",
     "output_type": "stream",
     "text": [
      "6.735366320123259\n",
      "6.444633679876742\n"
     ]
    }
   ],
   "source": [
    "print(x_ + (2.262 * sigm_ / sqrt(10)))\n",
    "print(x_ - (2.262 * sigm_ / sqrt(10)))"
   ]
  },
  {
   "cell_type": "markdown",
   "metadata": {},
   "source": [
    "##### 3. Утверждается, что шарики для подшипников, изготовленные автоматическим станком, имеют средний диаметр 17 мм. Используя односторонний критерий с α=0,05, проверить эту гипотезу, если в выборке из n=100 шариков средний диаметр оказался равным 17.5 мм, а дисперсия известна и равна 4 мм."
   ]
  },
  {
   "cell_type": "markdown",
   "metadata": {},
   "source": [
    "$\\mu > \\mu_0$\n",
    "\n",
    "$Z_n = \\frac{\\mu - \\mu_0}{\\frac{\\sigma}{\\sqrt{n}}} = \\frac{0.5}{0.2} = 2.5$\n",
    "\n",
    "$Z = 1.65$\n",
    "\n",
    "$2.5 > 1.65 \\Rightarrow $ Гипотеза $H_0$ не верна\n"
   ]
  },
  {
   "cell_type": "markdown",
   "metadata": {},
   "source": [
    "##### 4. Продавец утверждает, что средний вес пачки печенья составляет 200 г. Из партии извлечена выборка из 10 пачек. Вес каждой пачки составляет: 202, 203, 199, 197, 195, 201, 200, 204, 194, 190. Известно, что их веса распределены нормально. Верно ли утверждение продавца, если учитывать, что доверительная вероятность равна 99%?"
   ]
  },
  {
   "cell_type": "markdown",
   "metadata": {},
   "source": [
    "$\\overline{X} = 198.5$\n",
    "\n",
    "$\\sigma = 19.83$\n",
    "\n",
    "$t_{a = 0.01}^{k = 9} = 3.25$\n",
    "\n",
    "$H_0: a = 200; H_1: a \\not= 200$\n",
    "\n",
    "$T_n = \\frac{\\overline{X}-a}{\\frac{\\sigma}{\\sqrt{n}}} = -0.239$\n",
    "\n",
    "$0.239 < 3.25 \\Rightarrow $ Гипотеза $H_0$ верна"
   ]
  },
  {
   "cell_type": "code",
   "execution_count": 41,
   "metadata": {},
   "outputs": [],
   "source": [
    "X = np.array([202, 203, 199, 197, 195, 201, 200, 204, 194, 190])\n",
    "a = 1-0.99\n",
    "sigm_ = np.var(X, ddof=1)\n",
    "T = (np.mean(X) - 200)/(sigm_ / sqrt(10))"
   ]
  },
  {
   "cell_type": "code",
   "execution_count": 42,
   "metadata": {},
   "outputs": [
    {
     "name": "stdout",
     "output_type": "stream",
     "text": [
      "sigm: 19.833333333333332\n",
      "mean: 198.5\n",
      "T: -0.23916385665139006\n"
     ]
    }
   ],
   "source": [
    "print(f'sigm: {sigm_}')\n",
    "print(f'mean: {np.mean(X)}')\n",
    "print(f'T: {T}')"
   ]
  },
  {
   "cell_type": "code",
   "execution_count": null,
   "metadata": {},
   "outputs": [],
   "source": []
  }
 ],
 "metadata": {
  "kernelspec": {
   "display_name": "Python 3",
   "language": "python",
   "name": "python3"
  },
  "language_info": {
   "codemirror_mode": {
    "name": "ipython",
    "version": 3
   },
   "file_extension": ".py",
   "mimetype": "text/x-python",
   "name": "python",
   "nbconvert_exporter": "python",
   "pygments_lexer": "ipython3",
   "version": "3.7.3"
  }
 },
 "nbformat": 4,
 "nbformat_minor": 2
}
