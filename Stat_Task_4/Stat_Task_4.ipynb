{
 "cells": [
  {
   "cell_type": "markdown",
   "metadata": {},
   "source": [
    "## Теория вероятностей и математическая статистика\n",
    "****************"
   ]
  },
  {
   "cell_type": "code",
   "execution_count": 1,
   "metadata": {},
   "outputs": [],
   "source": [
    "import numpy as np\n",
    "from math import factorial as f\n",
    "from math import sqrt, pi, exp\n",
    "\n",
    "%matplotlib inline\n",
    "import numpy as np\n",
    "import matplotlib.pyplot as plt"
   ]
  },
  {
   "cell_type": "markdown",
   "metadata": {},
   "source": [
    "##### 1. Случайная непрерывная величина A имеет равномерное распределение на промежутке (200, 800]. Найдите ее среднее значение и дисперсию."
   ]
  },
  {
   "cell_type": "markdown",
   "metadata": {},
   "source": [
    "Среднее значение равно мат. ожиданию: $M(X) = \\frac{a+b}{2} = 500$\n",
    "\n",
    "Дисперсия $D(X) = \\frac{(b-a)^2}{12} = 30000$"
   ]
  },
  {
   "cell_type": "markdown",
   "metadata": {},
   "source": [
    "##### 2. О случайной непрерывной равномерно распределенной величине B известно, что ее дисперсия равна 0.2. Можно ли найти правую границу величины B и ее среднее значение зная, что левая граница равна 0.5? Если да, найдите ее."
   ]
  },
  {
   "cell_type": "markdown",
   "metadata": {},
   "source": [
    "$D(X) = D(X) = \\frac{(b-a)^2}{12} =  0.2$\n",
    "\n",
    "$a = 0.5$\n",
    "\n",
    "$b = 0.5 + 2\\sqrt{\\frac{3}{5}} = 2.05;$ $\\qquad (0.5 - 2\\sqrt{\\frac{3}{5}})<0$\n",
    "\n",
    "$M(X) = \\frac{a+b}{2} =  \\frac{0.5+2.05}{2} = 1.125$"
   ]
  },
  {
   "cell_type": "markdown",
   "metadata": {},
   "source": [
    "##### 3. Непрерывная случайная величина X распределена нормально и задана плотностью распределения \n",
    "f(x) = (1 / (4 * sqrt(2*pi))) * (exp(-(x+2)**2) / 32)\n",
    "\n",
    "$f(x) = \\frac{1} {4 \\sqrt(2\\pi)} \\cdot e^{\\frac{-(x+2)^2}{32}}$ \n",
    "\n",
    "Найдите:\n",
    "а). M(X)\n",
    "б). D(X)\n",
    "в). std(X) (среднее квадратичное отклонение)\n",
    "\n"
   ]
  },
  {
   "cell_type": "markdown",
   "metadata": {},
   "source": [
    "формула распределения Гаусса:  $f(x) = \\frac{1} {\\sigma \\sqrt(2\\pi)} \\cdot e^{\\frac{-(x-a)^2}{2\\sigma^2}}$\n",
    "\n",
    "$M(X) = a = -2$\n",
    "\n",
    "$D(X) = \\sigma^2 = 16$\n",
    "\n",
    "$\\sigma = 4$"
   ]
  },
  {
   "cell_type": "code",
   "execution_count": 45,
   "metadata": {
    "scrolled": false
   },
   "outputs": [
    {
     "data": {
      "text/plain": [
       "[<matplotlib.lines.Line2D at 0x1c11fb411d0>]"
      ]
     },
     "execution_count": 45,
     "metadata": {},
     "output_type": "execute_result"
    },
    {
     "data": {
      "image/png": "[encoded data removed]",
      "text/plain": [
       "<Figure size 432x288 with 1 Axes>"
      ]
     },
     "metadata": {
      "needs_background": "light"
     },
     "output_type": "display_data"
    }
   ],
   "source": [
    "x = np.linspace(-12,10,100)\n",
    "f_x=[]\n",
    "for i in range(len(x)):\n",
    "    f_x.append((1 / (4 * sqrt(2*pi))) * (exp(-(x[i]+2)**2 / 32)))\n",
    "plt.plot(x,f_x)"
   ]
  },
  {
   "cell_type": "markdown",
   "metadata": {},
   "source": [
    "##### 4. Рост взрослого населения города X имеет нормальное распределение. Причем, средний рост равен 174 см, а среднее квадратичное отклонение равно 8 см.\n",
    "Какова вероятность того, что случайным образом выбранный взрослый человек имеет рост:\n",
    "а). больше 182 см\n",
    "б). больше 190 см\n",
    "в). от 166 см до 190 см\n",
    "г). от 166 см до 182 см\n",
    "д). от 158 см до 190 см\n",
    "е). не выше 150 см или не ниже 190 см\n",
    "ё). не выше 150 см или не ниже 198 см\n",
    "ж). ниже 166 см."
   ]
  },
  {
   "cell_type": "markdown",
   "metadata": {},
   "source": [
    "а) $P(182<X) = Ф (\\frac{182-174}{8}) = Ф(1) = 0.1587$\n",
    "\n",
    "б) $P(190<X) = Ф (\\frac{190-174}{8}) = Ф(2) = 0.0228$\n",
    "\n",
    "в) $P(166<X<190) = Ф (\\frac{190-174}{8}) - Ф (\\frac{166-174}{8})  = Ф(2) - Ф(-1) = 0.9772 - 0.1587 = 0.8185$\n",
    "\n",
    "г) $P(166<X<182) = Ф (\\frac{182-174}{8}) - Ф (\\frac{166-174}{8})  = Ф(1) - Ф(-1) = 0.8413 - 0.1587 = 0.6826$\n",
    "\n",
    "д) $P(158<X<190) = Ф (\\frac{190-174}{8}) - Ф (\\frac{158-174}{8})  = Ф(2) - Ф(-2) = 0.9772 - 0.0228 = 0.9544$\n",
    "\n",
    "е) $P(X<150, X>190) = Ф (\\frac{190-174}{8}) + Ф (\\frac{150-174}{8})  = Ф(2) + Ф(-3) = 0.0228 + 0.0014 = 0.0242$\n",
    "\n",
    "ё) $P(X<150, X>198) = Ф (\\frac{198-174}{8}) + Ф (\\frac{150-174}{8})  = Ф(3) + Ф(-3) = 0.0014 + 0.0014 = 0.0028$\n",
    "\n",
    "ж) $P(X<166) = Ф (\\frac{166-174}{8})  = Ф(-1) = 0.1587$"
   ]
  },
  {
   "cell_type": "markdown",
   "metadata": {},
   "source": [
    "##### 5. На сколько сигм (средних квадратичных отклонений) отклоняется рост человека, равный 190 см, от математического ожидания роста в популяции, в которой M(X) = 178 см и D(X) = 25 кв.см?"
   ]
  },
  {
   "cell_type": "code",
   "execution_count": 6,
   "metadata": {},
   "outputs": [
    {
     "data": {
      "text/plain": [
       "2.4"
      ]
     },
     "execution_count": 6,
     "metadata": {},
     "output_type": "execute_result"
    }
   ],
   "source": [
    "(190-178)/sqrt(25)"
   ]
  },
  {
   "cell_type": "code",
   "execution_count": null,
   "metadata": {},
   "outputs": [],
   "source": []
  }
 ],
 "metadata": {
  "kernelspec": {
   "display_name": "Python 3",
   "language": "python",
   "name": "python3"
  },
  "language_info": {
   "codemirror_mode": {
    "name": "ipython",
    "version": 3
   },
   "file_extension": ".py",
   "mimetype": "text/x-python",
   "name": "python",
   "nbconvert_exporter": "python",
   "pygments_lexer": "ipython3",
   "version": "3.7.3"
  }
 },
 "nbformat": 4,
 "nbformat_minor": 2
}
