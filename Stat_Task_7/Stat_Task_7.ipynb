{
 "cells": [
  {
   "cell_type": "markdown",
   "metadata": {},
   "source": [
    "## Теория вероятностей и математическая статистика\n",
    "****************"
   ]
  },
  {
   "cell_type": "code",
   "execution_count": 2,
   "metadata": {},
   "outputs": [],
   "source": [
    "%matplotlib inline\n",
    "import numpy as np\n",
    "from math import sqrt\n",
    "import matplotlib.pyplot as plt\n",
    "from sklearn.metrics import mean_squared_error as mse"
   ]
  },
  {
   "cell_type": "markdown",
   "metadata": {},
   "source": [
    "1. Даны значения величины заработной платы заемщиков банка (zp) и значения их поведенческого кредитного скоринга (ks): zp = [35, 45, 190, 200, 40, 70, 54, 150, 120, 110], ks = [401, 574, 874, 919, 459, 739, 653, 902, 746, 832]. Используя математические операции, посчитать коэффициенты линейной регрессии, приняв за X заработную плату (то есть, zp - признак), а за y - значения скорингового балла (то есть, ks - целевая переменная). Произвести расчет как с использованием intercept, так и без."
   ]
  },
  {
   "cell_type": "code",
   "execution_count": 86,
   "metadata": {},
   "outputs": [
    {
     "name": "stdout",
     "output_type": "stream",
     "text": [
      "444.1773573243596 2.620538882402765\n"
     ]
    }
   ],
   "source": [
    "zp = np.array([35, 45, 190, 200, 40, 70, 54, 150, 120, 110])\n",
    "ks = np.array([401, 574, 874, 919, 459, 739, 653, 902, 746, 832])\n",
    "x,y = zp, ks\n",
    "\n",
    "b = (np.mean(x * y) - np.mean(x) * np.mean(y)) / (np.mean(x**2) - np.mean(x) ** 2)\n",
    "a = np.mean(y) - b * np.mean(x)\n",
    "\n",
    "print(a, b)"
   ]
  },
  {
   "cell_type": "code",
   "execution_count": 21,
   "metadata": {},
   "outputs": [
    {
     "data": {
      "text/plain": [
       "array([535.89621821, 562.10160703, 942.07974498, 968.2851338 ,\n",
       "       548.99891262, 627.61507909, 585.68645697, 837.25818968,\n",
       "       758.64202321, 732.43663439])"
      ]
     },
     "execution_count": 21,
     "metadata": {},
     "output_type": "execute_result"
    }
   ],
   "source": [
    "y_hat = a + b * x\n",
    "y_hat"
   ]
  },
  {
   "cell_type": "code",
   "execution_count": 39,
   "metadata": {},
   "outputs": [
    {
     "data": {
      "text/plain": [
       "6470.414201176658"
      ]
     },
     "execution_count": 39,
     "metadata": {},
     "output_type": "execute_result"
    }
   ],
   "source": [
    "mse_calc = ((y-y_hat)**2).sum()/len(y)\n",
    "mse_calc"
   ]
  },
  {
   "cell_type": "code",
   "execution_count": 40,
   "metadata": {},
   "outputs": [
    {
     "data": {
      "text/plain": [
       "6470.414201176658"
      ]
     },
     "execution_count": 40,
     "metadata": {},
     "output_type": "execute_result"
    }
   ],
   "source": [
    "mse(y,y_hat)"
   ]
  },
  {
   "cell_type": "code",
   "execution_count": 23,
   "metadata": {},
   "outputs": [
    {
     "data": {
      "text/plain": [
       "array([ 91.71886088, 117.92424971, 497.90238766, 524.10777648,\n",
       "       104.8215553 , 183.43772177, 141.50909965, 393.08083236,\n",
       "       314.46466589, 288.25927706])"
      ]
     },
     "execution_count": 23,
     "metadata": {},
     "output_type": "execute_result"
    }
   ],
   "source": [
    "y_hat_2 = b * x\n",
    "y_hat_2"
   ]
  },
  {
   "cell_type": "code",
   "execution_count": 45,
   "metadata": {},
   "outputs": [
    {
     "data": {
      "image/png": "[encoded data removed]",
      "text/plain": [
       "<Figure size 432x288 with 1 Axes>"
      ]
     },
     "metadata": {
      "needs_background": "light"
     },
     "output_type": "display_data"
    }
   ],
   "source": [
    "plt.plot(x, y_hat)\n",
    "plt.plot(x,y,'o')\n",
    "plt.plot(x,y_hat_2,c='lightgray')\n",
    "plt.show()"
   ]
  },
  {
   "cell_type": "markdown",
   "metadata": {},
   "source": [
    "2. Посчитать коэффициент линейной регрессии при заработной плате (zp), используя градиентный спуск (без intercept)."
   ]
  },
  {
   "cell_type": "code",
   "execution_count": 92,
   "metadata": {},
   "outputs": [],
   "source": [
    "zp = np.array([35, 45, 190, 200, 40, 70, 54, 150, 120, 110])\n",
    "ks = np.array([401, 574, 874, 919, 459, 739, 653, 902, 746, 832])\n",
    "x,y = zp, ks"
   ]
  },
  {
   "cell_type": "code",
   "execution_count": null,
   "metadata": {},
   "outputs": [],
   "source": [
    "def mse(B1,x=x,y=y,n=len(x)):"
   ]
  },
  {
   "cell_type": "code",
   "execution_count": 19,
   "metadata": {},
   "outputs": [
    {
     "name": "stdout",
     "output_type": "stream",
     "text": [
      "Iter: 0\t B1: 0.25952808\n",
      "Iter: 1000\t B1: 5.8898204201285544\n",
      "Iter: 2000\t B1: 5.889820420132673\n",
      "Iter: 3000\t B1: 5.889820420132673\n",
      "Iter: 4000\t B1: 5.889820420132673\n"
     ]
    }
   ],
   "source": [
    "n = len(x)\n",
    "B1 = 0.1\n",
    "alpha=1e-6\n",
    "for i in range(5000):\n",
    "    B1 -=alpha*(2/n)*np.sum((B1*x-y)*x)\n",
    "    if i%1000==0:\n",
    "        print(f'Iter: {i}\\t B1: {B1}')"
   ]
  },
  {
   "cell_type": "markdown",
   "metadata": {},
   "source": [
    "$B1 = 5.89$"
   ]
  },
  {
   "cell_type": "markdown",
   "metadata": {},
   "source": [
    "3. В каких случаях для вычисления доверительных интервалов и проверки статистических гипотез используется таблица значений функции Лапласа, а в каких - таблица критических точек распределения Стьюдента?"
   ]
  },
  {
   "cell_type": "markdown",
   "metadata": {},
   "source": [
    "`Ответ:`\n",
    "- Таблица Лапласа (z-функция) используется для данных, где можно  вычислить дисперсию и связанные с ней параметры.\n",
    "\n",
    "- t-статистика используется на малых выборках, для которых заведомо неизвестна дисперсия. В отличие от функции Лапласа t-функция учитывает больше степеней свободы"
   ]
  },
  {
   "cell_type": "markdown",
   "metadata": {},
   "source": [
    "4. *. Произвести вычисления как в пункте 2, но с вычислением intercept. Учесть, что изменение коэффициентов должно производиться на каждом шаге одновременно (то есть изменение одного коэффициента не должно влиять на изменение другого во время одной итерации)."
   ]
  },
  {
   "cell_type": "markdown",
   "metadata": {},
   "source": [
    "$\\frac{1}{n} \\sum (\\beta_0 + \\beta_1x - y)^2$\n",
    "\n",
    "$\\frac{df}{d\\beta_1} = \\frac{2}{n}\\sum(\\beta_0 + \\beta_1x - y)\\cdot x$\n",
    "\n",
    "$\\frac{df}{d\\beta_0} = \\frac{2}{n}\\sum(\\beta_0 + \\beta_1x - y)\\cdot 1$"
   ]
  },
  {
   "cell_type": "code",
   "execution_count": 107,
   "metadata": {},
   "outputs": [
    {
     "name": "stdout",
     "output_type": "stream",
     "text": [
      "Iter: 0\t B1: 1.6950780000000003\t B0: 0.1139932\n",
      "Iter: 10000\t B1: 5.727148917267028\t B0: 22.10895682095091\n",
      "Iter: 20000\t B1: 5.573480252957227\t B0: 42.98659727947313\n",
      "Iter: 30000\t B1: 5.427412818967859\t B0: 62.83152391579071\n",
      "Iter: 40000\t B1: 5.288570619954364\t B0: 81.69481998525144\n",
      "Iter: 50000\t B1: 5.1565962592059815\t B0: 99.62504190670468\n",
      "Iter: 60000\t B1: 5.031150018663153\t B0: 116.66834425263008\n",
      "Iter: 70000\t B1: 4.911908984441857\t B0: 132.86859855662837\n",
      "Iter: 80000\t B1: 4.798566215614061\t B0: 148.2675062440768\n",
      "Iter: 90000\t B1: 4.6908299541043625\t B0: 162.9047059766792\n"
     ]
    }
   ],
   "source": [
    "n = len(x)\n",
    "init_ = 0.1\n",
    "B1, B1_prev = init_, init_\n",
    "B0, B0_prev = init_, init_\n",
    "alpha=1e-5\n",
    "\n",
    "for i in range(100000):\n",
    "    B0 = B0_prev - alpha*(2/n)*np.sum(B0_prev + B1_prev*x-y)\n",
    "    B1 = B1_prev - alpha*(2/n)*np.sum((B0_prev + B1_prev*x-y)*x)\n",
    "    \n",
    "    B0_prev = B0\n",
    "    B1_prev = B1  \n",
    "    \n",
    "    if i%10000==0:\n",
    "        print(f'Iter: {i}\\t B1: {B1}\\t B0: {B0}')"
   ]
  },
  {
   "cell_type": "code",
   "execution_count": 96,
   "metadata": {},
   "outputs": [
    {
     "data": {
      "text/plain": [
       "array([[2.62053888]])"
      ]
     },
     "execution_count": 96,
     "metadata": {},
     "output_type": "execute_result"
    }
   ],
   "source": [
    "from sklearn.linear_model import LinearRegression\n",
    "\n",
    "regressor = LinearRegression()\n",
    "regressor.fit(zp.reshape(-1,1), ks.reshape(-1,1))\n",
    "regressor.coef_"
   ]
  },
  {
   "cell_type": "code",
   "execution_count": null,
   "metadata": {},
   "outputs": [],
   "source": []
  }
 ],
 "metadata": {
  "kernelspec": {
   "display_name": "Python 3",
   "language": "python",
   "name": "python3"
  },
  "language_info": {
   "codemirror_mode": {
    "name": "ipython",
    "version": 3
   },
   "file_extension": ".py",
   "mimetype": "text/x-python",
   "name": "python",
   "nbconvert_exporter": "python",
   "pygments_lexer": "ipython3",
   "version": "3.7.3"
  }
 },
 "nbformat": 4,
 "nbformat_minor": 2
}
