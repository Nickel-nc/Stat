{
 "cells": [
  {
   "cell_type": "markdown",
   "metadata": {},
   "source": [
    "## Теория вероятностей и математическая статистика\n",
    "****************"
   ]
  },
  {
   "cell_type": "code",
   "execution_count": 15,
   "metadata": {},
   "outputs": [],
   "source": [
    "from math import factorial as f\n",
    "from math import e, sqrt\n",
    "\n",
    "%matplotlib inline\n",
    "import numpy as np\n",
    "from math import sin\n",
    "import matplotlib.pyplot as plt\n",
    "from tqdm import tqdm\n",
    "from math import asin,sin, cos, tan, exp, e, log, sqrt, pi\n",
    "import math"
   ]
  },
  {
   "cell_type": "markdown",
   "metadata": {},
   "source": [
    "$P_n=C_n^kp^kq^{n-k}$"
   ]
  },
  {
   "cell_type": "markdown",
   "metadata": {},
   "source": [
    "##### 1. Вероятность того, что стрелок попадет в мишень, выстрелив один раз, равна 0.8. Стрелок выстрелил 100 раз. Найдите вероятность того, что стрелок попадет в цель ровно 85 раз.\n"
   ]
  },
  {
   "cell_type": "code",
   "execution_count": 4,
   "metadata": {},
   "outputs": [],
   "source": [
    "def Binomial(n,p,k):\n",
    "    C_n_k = f(n)/(f(k)*f(n-k))\n",
    "    return C_n_k * p**k * (1-p)**(n-k)    "
   ]
  },
  {
   "cell_type": "code",
   "execution_count": 30,
   "metadata": {},
   "outputs": [
    {
     "data": {
      "text/plain": [
       "0.048061793700746355"
      ]
     },
     "execution_count": 30,
     "metadata": {},
     "output_type": "execute_result"
    }
   ],
   "source": [
    "Binomial(100,0.8,85)"
   ]
  },
  {
   "cell_type": "code",
   "execution_count": 43,
   "metadata": {},
   "outputs": [
    {
     "name": "stdout",
     "output_type": "stream",
     "text": [
      "Мат ожидание M(X): 80.0\n",
      "Дисперсия D(X): 16.0\n",
      "Среднеквадратичное отклонение: 4.0\n"
     ]
    }
   ],
   "source": [
    "print(f'Мат ожидание M(X): {100*0.8}')\n",
    "print(f'Дисперсия D(X): {100*0.8*0.2}')\n",
    "print(f'Среднеквадратичное отклонение: {sqrt(100*0.8*0.2)}')"
   ]
  },
  {
   "cell_type": "markdown",
   "metadata": {},
   "source": [
    "##### 2. Вероятность того, что лампочка перегорит в течение первого дня эксплуатации, равна 0.0004. В жилом комплексе после ремонта в один день включили 5000 новых лампочек. Какова вероятность, что ни одна из них не перегорит в первый день? Какова вероятность, что перегорят ровно две?\n"
   ]
  },
  {
   "cell_type": "code",
   "execution_count": 44,
   "metadata": {},
   "outputs": [],
   "source": [
    "def Puasson(n,p,m):\n",
    "    l = n * p   \n",
    "    return (l**m)/(f(m))*e**(-l)"
   ]
  },
  {
   "cell_type": "code",
   "execution_count": 45,
   "metadata": {},
   "outputs": [
    {
     "name": "stdout",
     "output_type": "stream",
     "text": [
      "Вероятность, что перегорит 0 ламп: 0.1353352832366127\n",
      "Вероятность, что перегорит 2 лампы: 0.2706705664732254\n"
     ]
    }
   ],
   "source": [
    "# Используем формулу Пуассона\n",
    "print(f'Вероятность, что перегорит 0 ламп: {Puasson(5000,0.0004,0)}')\n",
    "print(f'Вероятность, что перегорит 2 лампы: {Puasson(5000,0.0004,2)}')"
   ]
  },
  {
   "cell_type": "markdown",
   "metadata": {},
   "source": [
    "##### 3. Монету подбросили 144 раза. Какова вероятность, что орел выпадет ровно 70 раз?"
   ]
  },
  {
   "cell_type": "code",
   "execution_count": 33,
   "metadata": {
    "scrolled": true
   },
   "outputs": [
    {
     "data": {
      "text/plain": [
       "0.06281178035144776"
      ]
     },
     "execution_count": 33,
     "metadata": {},
     "output_type": "execute_result"
    }
   ],
   "source": [
    "Binomial(144,0.5,70)"
   ]
  },
  {
   "cell_type": "code",
   "execution_count": 36,
   "metadata": {},
   "outputs": [
    {
     "data": {
      "image/png": "[encoded data removed]",
      "text/plain": [
       "<Figure size 432x288 with 1 Axes>"
      ]
     },
     "metadata": {
      "needs_background": "light"
     },
     "output_type": "display_data"
    }
   ],
   "source": [
    "x = np.arange(1,145)\n",
    "P_x = []\n",
    "for i in range (len(x)):\n",
    "    P_x.append(Binomial(144,0.5,i))\n",
    "\n",
    "plt.plot(x,P_x, 'o')\n",
    "plt.grid(True)\n",
    "plt.show()"
   ]
  },
  {
   "cell_type": "code",
   "execution_count": 30,
   "metadata": {},
   "outputs": [
    {
     "data": {
      "text/plain": [
       "array([  1,   2,   3,   4,   5,   6,   7,   8,   9,  10,  11,  12,  13,\n",
       "        14,  15,  16,  17,  18,  19,  20,  21,  22,  23,  24,  25,  26,\n",
       "        27,  28,  29,  30,  31,  32,  33,  34,  35,  36,  37,  38,  39,\n",
       "        40,  41,  42,  43,  44,  45,  46,  47,  48,  49,  50,  51,  52,\n",
       "        53,  54,  55,  56,  57,  58,  59,  60,  61,  62,  63,  64,  65,\n",
       "        66,  67,  68,  69,  70,  71,  72,  73,  74,  75,  76,  77,  78,\n",
       "        79,  80,  81,  82,  83,  84,  85,  86,  87,  88,  89,  90,  91,\n",
       "        92,  93,  94,  95,  96,  97,  98,  99, 100, 101, 102, 103, 104,\n",
       "       105, 106, 107, 108, 109, 110, 111, 112, 113, 114, 115, 116, 117,\n",
       "       118, 119, 120, 121, 122, 123, 124, 125, 126, 127, 128, 129, 130,\n",
       "       131, 132, 133, 134, 135, 136, 137, 138, 139, 140, 141, 142, 143,\n",
       "       144])"
      ]
     },
     "execution_count": 30,
     "metadata": {},
     "output_type": "execute_result"
    }
   ],
   "source": []
  },
  {
   "cell_type": "markdown",
   "metadata": {},
   "source": [
    "##### 4. В первом ящике находится 10 мячей, из которых 7 - белые. Во втором ящике - 11 мячей, из которых 9 белых. Из каждого ящика вытаскивают случайным образом по два мяча. Какова вероятность того, что все мячи белые? Какова вероятность того, что ровно два мяча белые? Какова вероятность того, что хотя бы один мяч белый?"
   ]
  },
  {
   "cell_type": "code",
   "execution_count": 68,
   "metadata": {},
   "outputs": [
    {
     "data": {
      "text/plain": [
       "0.3054545454545454"
      ]
     },
     "execution_count": 68,
     "metadata": {},
     "output_type": "execute_result"
    }
   ],
   "source": [
    "# Вероятность того, что все 4 мяча - белые\n",
    "7/10 * 6/9 * 9/11 * 8/10 "
   ]
  },
  {
   "cell_type": "code",
   "execution_count": 81,
   "metadata": {},
   "outputs": [
    {
     "data": {
      "text/plain": [
       "0.32801652892561983"
      ]
     },
     "execution_count": 81,
     "metadata": {},
     "output_type": "execute_result"
    }
   ],
   "source": [
    "# Решение через Биномиальное уравнение:\n",
    "Binomial(2,7/10,2) * Binomial(2,9/11,2)"
   ]
  },
  {
   "cell_type": "code",
   "execution_count": 10,
   "metadata": {},
   "outputs": [
    {
     "data": {
      "text/plain": [
       "0.20484848484848484"
      ]
     },
     "execution_count": 10,
     "metadata": {},
     "output_type": "execute_result"
    }
   ],
   "source": [
    "# Вероятность того, что ровно 2 мяча - белые\n",
    "C1 = 3/10 * 2/9 * 9/11 * 8/10 # Вариант: 0 белых (1 ящик) 2 белых (2 ящик) \n",
    "C2 = (3/10 * 7/9 + 7/10 * 3/9) * (2/11 * 9/10 + 9/11 * 2/10) # Вариант: 1 белый (1 ящик) 1 белый (2 ящик) \n",
    "C3 =  7/10 * 6/9 * 2/11 * 1/10 # Вариант: 2 белых (1 ящик) 0 белых (2 ящик) \n",
    "P1 = C1 + C2 + C3\n",
    "P1"
   ]
  },
  {
   "cell_type": "code",
   "execution_count": 14,
   "metadata": {},
   "outputs": [
    {
     "data": {
      "text/plain": [
       "0.20140495867768596"
      ]
     },
     "execution_count": 14,
     "metadata": {},
     "output_type": "execute_result"
    }
   ],
   "source": [
    "# Вероятность того, что ровно 2 мяча - белые\n",
    "# Решение через Биномиальное уравнение:\n",
    "C1 = Binomial(2,7/10,0) * Binomial(2,9/11,2) # Вариант: 0 белых (1 ящик) 2 белых (2 ящик) \n",
    "C2 = Binomial(2,7/10,1) * Binomial(2,9/11,1) # Вариант: 1 белый (1 ящик) 1 белый (2 ящик) \n",
    "C3 = Binomial(2,7/10,2) * Binomial(2,9/11,0) # Вариант: 2 белых (1 ящик) 0 белых (2 ящик) \n",
    "P2 = C1 + C2 + C3\n",
    "P2"
   ]
  },
  {
   "cell_type": "code",
   "execution_count": 13,
   "metadata": {},
   "outputs": [
    {
     "data": {
      "text/plain": [
       "0.9970247933884298"
      ]
     },
     "execution_count": 13,
     "metadata": {},
     "output_type": "execute_result"
    }
   ],
   "source": [
    "# Вероятность того, что хотя бы 1 мяч - белый:\n",
    "C1 = (Binomial(2,7/10,0) * Binomial(2,9/11,1)) + (Binomial(2,7/10,1) * Binomial(2,9/11,0)) # Вариант: 1 белый (1:0 или 0:1)\n",
    "C2 = P2 # Вариант: 2 белых (0:2 или 1:1 или 2:0)\n",
    "C3 = (Binomial(2,7/10,2) * Binomial(2,9/11,1)) + (Binomial(2,7/10,1) * Binomial(2,9/11,2)) # Вариант: 3 белых (2:1 или 1:2)\n",
    "C4 = Binomial(2,7/10,2) * Binomial(2,9/11,2) # Вариант: 4 белых (2:2)\n",
    "P3 = C1 + C2 + C3 + C4\n",
    "P3"
   ]
  }
 ],
 "metadata": {
  "kernelspec": {
   "display_name": "Python 3",
   "language": "python",
   "name": "python3"
  },
  "language_info": {
   "codemirror_mode": {
    "name": "ipython",
    "version": 3
   },
   "file_extension": ".py",
   "mimetype": "text/x-python",
   "name": "python",
   "nbconvert_exporter": "python",
   "pygments_lexer": "ipython3",
   "version": "3.7.3"
  }
 },
 "nbformat": 4,
 "nbformat_minor": 2
}
